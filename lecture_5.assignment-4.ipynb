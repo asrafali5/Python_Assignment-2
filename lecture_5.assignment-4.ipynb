{
 "cells": [
  {
   "cell_type": "markdown",
   "metadata": {},
   "source": [
    "# 4. Recall that, given a string s , s.index( ' x ' ) returns the index of the first x in s and an error if there is no x."
   ]
  },
  {
   "cell_type": "markdown",
   "metadata": {},
   "source": [
    "# (a) Write a program that asks the user for a string and a letter. Using a while loop, the program should print the index of the first occurrence of that letter and a message if the string does not contain the letter.¶"
   ]
  },
  {
   "cell_type": "code",
   "execution_count": null,
   "metadata": {},
   "outputs": [
    {
     "name": "stdout",
     "output_type": "stream",
     "text": [
      "Enter a String: I am Shykat\n",
      "Enter a Letter: S\n",
      "\n",
      "First occurrence of \" S \" is found at index: 5 \n",
      "\n",
      "Enter a String: I am a student of CSE\n",
      "Enter a Letter: C\n",
      "\n",
      "First occurrence of \" C \" is found at index: 18 \n",
      "\n",
      "Enter a String: Ulab\n",
      "Enter a Letter: s\n",
      "\n",
      "The String does not contain the Letter\n",
      "\n"
     ]
    }
   ],
   "source": [
    "i = 0\n",
    "while i < 5: # when condition is true \n",
    "    s = raw_input(\"Enter a String: \") # input a string\n",
    "    letter = raw_input(\"Enter a Letter: \") # input a letter\n",
    "    if letter in s: # if letter is in the string \n",
    "        find = s.index(letter) # find out the first index of the letter\n",
    "        print \"\\nFirst occurrence of \"'\"',letter,'\"'\" is found at index:\",find,\"\\n\" # print statement\n",
    "    else: # if letter is not in the string 's' \n",
    "        print \"\\nThe String does not contain the Letter\\n\"\n",
    "    i = i + 1"
   ]
  },
  {
   "cell_type": "code",
   "execution_count": null,
   "metadata": {},
   "outputs": [],
   "source": []
  }
 ],
 "metadata": {
  "kernelspec": {
   "display_name": "Python 2",
   "language": "python",
   "name": "python2"
  },
  "language_info": {
   "codemirror_mode": {
    "name": "ipython",
    "version": 2
   },
   "file_extension": ".py",
   "mimetype": "text/x-python",
   "name": "python",
   "nbconvert_exporter": "python",
   "pygments_lexer": "ipython2",
   "version": "2.7.15"
  }
 },
 "nbformat": 4,
 "nbformat_minor": 2
}
