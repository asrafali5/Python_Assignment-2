{
 "cells": [
  {
   "cell_type": "markdown",
   "metadata": {},
   "source": [
    "# 2.Using the dictionary created in the previous problem, allow the user to enter a dollar amount and print out all the products whose price is less than that amount.¶\n"
   ]
  },
  {
   "cell_type": "code",
   "execution_count": 1,
   "metadata": {},
   "outputs": [
    {
     "name": "stdout",
     "output_type": "stream",
     "text": [
      "Enter amount: $1500\n",
      "\n",
      "Products whose price is less than \"$ 1500 \":\n",
      "Product: Mouse\n",
      "Product: Keyboard\n"
     ]
    }
   ],
   "source": [
    "dict = {'CPU':15000,'Keyboard':1200,'Mouse':500,'Speaker':2000}\n",
    "      \n",
    "amount = input(\"Enter amount: $\") # input the dollar amount\n",
    "print \"\\nProducts whose price is less than \"'\"$',amount,'\"'\":\"\n",
    "for key in dict:\n",
    "    if dict[key] < amount: # if the price is less than the entered amount is\n",
    "        print \"Product:\",key"
   ]
  },
  {
   "cell_type": "code",
   "execution_count": null,
   "metadata": {},
   "outputs": [],
   "source": []
  }
 ],
 "metadata": {
  "kernelspec": {
   "display_name": "Python 2",
   "language": "python",
   "name": "python2"
  },
  "language_info": {
   "codemirror_mode": {
    "name": "ipython",
    "version": 2
   },
   "file_extension": ".py",
   "mimetype": "text/x-python",
   "name": "python",
   "nbconvert_exporter": "python",
   "pygments_lexer": "ipython2",
   "version": "2.7.15"
  }
 },
 "nbformat": 4,
 "nbformat_minor": 2
}
