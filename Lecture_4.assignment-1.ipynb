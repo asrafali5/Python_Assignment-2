{
 "cells": [
  {
   "cell_type": "markdown",
   "metadata": {},
   "source": [
    "Lecture_4.assignment-1"
   ]
  },
  {
   "cell_type": "markdown",
   "metadata": {},
   "source": [
    "# 1.Write a program that repeatedly asks the user to enter product names and prices. Store all of these in a dictionary whose keys are the product names and whose values are the prices. When the user is done entering products and prices, allow them to repeatedly enter a product name and print the corresponding price or a message if the product is not in the dictionary.¶¶"
   ]
  },
  {
   "cell_type": "code",
   "execution_count": 1,
   "metadata": {},
   "outputs": [
    {
     "name": "stdout",
     "output_type": "stream",
     "text": [
      "Enter your product Name: Shirt\n",
      "Enter price: 1500\n",
      "Want to insert again in the dictionary(y/n): y\n",
      "Enter your product Name: Bag\n",
      "Enter price: 2500\n",
      "Want to insert again in the dictionary(y/n): y\n",
      "Enter your product Name: Shoe\n",
      "Enter price: 2200\n",
      "Want to insert again in the dictionary(y/n): y\n",
      "Enter your product Name: Hat\n",
      "Enter price: 900\n",
      "Want to insert again in the dictionary(y/n): n\n",
      "\n",
      "All Elements are inserted in the dictionary successfully\n",
      "\n",
      "\n",
      "Tto terminate the program, type 'end'\n",
      "Enter product name: Shirt\n",
      "The price of \" Shirt \" is 1500\n",
      "\n",
      "Tto terminate the program, type 'end'\n",
      "Enter product name: Shoe\n",
      "The price of \" Shoe \" is 2200\n",
      "\n",
      "Tto terminate the program, type 'end'\n",
      "Enter product name: bag\n",
      "\" bag \" is not in the Dictionary\n",
      "\n",
      "Tto terminate the program, type 'end'\n",
      "Enter product name: Bag\n",
      "The price of \" Bag \" is 2500\n",
      "\n",
      "Tto terminate the program, type 'end'\n",
      "Enter product name: end\n",
      "\n",
      "The program ended\n"
     ]
    }
   ],
   "source": [
    "dict = {} # this is a empty dictionary\n",
    "\n",
    "while True:\n",
    "    k = raw_input(\"Enter your product Name: \")\n",
    "    value = input(\"Enter price: \")\n",
    "    dict[k] = value # storing keys and values in the dictionary\n",
    "    cha = raw_input(\"Want to insert again in the dictionary(y/n): \")\n",
    "    if cha == \"n\": # if choice is no\n",
    "        print(\"\\nAll Elements are inserted in the dictionary successfully\\n\")\n",
    "        break # get out of the while loop\n",
    "    else:\n",
    "        cha == \"y\" # continue inserting keys and values in the dictionary\n",
    "        \n",
    "while True:\n",
    "    print \"\\nTto terminate the program, type 'end'\"\n",
    "    k = raw_input(\"Enter product name: \") # input the product name to print the corresponding price\n",
    "    if k in dict:\n",
    "        print \"The price of \"'\"',k,'\"'\" is\",dict[k] # print the corresponding price of the entered product name\n",
    "    elif k == \"end\":\n",
    "        print \"\\nThe program ended\"\n",
    "        break\n",
    "    else:\n",
    "        print '\"',k,'\"' \" is not in the Dictionary\""
   ]
  },
  {
   "cell_type": "code",
   "execution_count": null,
   "metadata": {},
   "outputs": [],
   "source": []
  }
 ],
 "metadata": {
  "kernelspec": {
   "display_name": "Python 2",
   "language": "python",
   "name": "python2"
  },
  "language_info": {
   "codemirror_mode": {
    "name": "ipython",
    "version": 2
   },
   "file_extension": ".py",
   "mimetype": "text/x-python",
   "name": "python",
   "nbconvert_exporter": "python",
   "pygments_lexer": "ipython2",
   "version": "2.7.15"
  }
 },
 "nbformat": 4,
 "nbformat_minor": 2
}
